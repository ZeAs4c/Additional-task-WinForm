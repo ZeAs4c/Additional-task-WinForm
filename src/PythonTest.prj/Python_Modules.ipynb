{
 "cells": [
  {
   "cell_type": "markdown",
   "metadata": {},
   "source": [
    "# Модули Python. Некоторые модули стандартной библиотеки Python\n",
    "## Вступление\n",
    "\n",
    "**Модуль** -- файл, содержащий инструкции языка Python.  \n",
    " Имя файла образуется путем добавления к имени модуля суффикса .py\n",
    " \n",
    " В пределах модуля имя его имя доступно глобальной переменной \"_name_\"\n",
    " \n",
    "**Пакеты** -- коллекция модулей, объединенных вместе\n",
    "К примеру, библиотеки numpy и scipy имеют сотни модулей"
   ]
  },
  {
   "cell_type": "code",
   "execution_count": 1,
   "metadata": {},
   "outputs": [
    {
     "name": "stdout",
     "output_type": "stream",
     "text": [
      "numpy\n"
     ]
    }
   ],
   "source": [
    "import numpy\n",
    "print(numpy.__name__)"
   ]
  },
  {
   "cell_type": "markdown",
   "metadata": {},
   "source": [
    "## Модули расширения  \n",
    "\n",
    "Модули для использования в программах на языке Python обычно подразделяются на две категории:  \n",
    "- \"обычные\" модули, т. е. написанные непосредственно на Python\n",
    "-  модули расширения, т. е. написанные на другом языке программирования (как правило, на С)  \n",
    "\n",
    "С точки зрения пользователя обычные модули и модули расширения отличаются лишь быстродействием (например, модуль, написанный на C, будет явно быстрее модуля, написанного на Python)  \n",
    "\n",
    "Иногдач разработчики модулей пишут их сразу на нескольких языках. (к примеру, модули pickle и cPickle, написанные на Python и C сооветственно)"
   ]
  },
  {
   "cell_type": "markdown",
   "metadata": {},
   "source": [
    "## Как написать собственный модуль  \n",
    "\n",
    "Модуль оформляется в виде отдельного файла с исходным кодом Python"
   ]
  },
  {
   "cell_type": "code",
   "execution_count": 2,
   "metadata": {},
   "outputs": [],
   "source": [
    "# Определение функции вычисления n-го числа ряда Фибоначчи и запись в файл fibonachi.py"
   ]
  },
  {
   "cell_type": "code",
   "execution_count": 3,
   "metadata": {},
   "outputs": [
    {
     "name": "stdout",
     "output_type": "stream",
     "text": [
      "Writing fibonachi.py\n"
     ]
    }
   ],
   "source": [
    "%%writefile fibonachi.py\n",
    "def fib(n):\n",
    "    if n==1 or n==2:\n",
    "        return 1\n",
    "    return fib(n-1) + fib(n-2)"
   ]
  },
  {
   "cell_type": "code",
   "execution_count": 4,
   "metadata": {},
   "outputs": [
    {
     "name": "stdout",
     "output_type": "stream",
     "text": [
      "8\n"
     ]
    }
   ],
   "source": [
    "import fibonachi\n",
    "print(fibonachi.fib(6))"
   ]
  },
  {
   "cell_type": "markdown",
   "metadata": {},
   "source": [
    "## Подключение к модулю, оператор import  \n",
    "\n",
    "Подключение к модулю осуществляется с помощью оператора ``import``  \n",
    "У него есть две формы ``import`` и ``from-import``  \n",
    "```python\n",
    "import fibonachi\n",
    "from fibonachi import fib\n",
    "from fibonachi import *```  \n",
    "\n",
    "В первом случае происходит привязка ссылки на объект модуля fibonachi к текущей области видимости\n",
    "\n",
    "Во втором случае из модуля fibonachi импортируется имя fib\n",
    "\n",
    "В третьем случае из модуля fibonachi импортируются все имена  \n"
   ]
  },
  {
   "cell_type": "code",
   "execution_count": 5,
   "metadata": {},
   "outputs": [
    {
     "name": "stdout",
     "output_type": "stream",
     "text": [
      "55\n"
     ]
    }
   ],
   "source": [
    "from fibonachi import fib\n",
    "print(fib(10))"
   ]
  },
  {
   "cell_type": "code",
   "execution_count": 6,
   "metadata": {},
   "outputs": [
    {
     "name": "stdout",
     "output_type": "stream",
     "text": [
      "55\n"
     ]
    }
   ],
   "source": [
    "from fibonachi import *\n",
    "print(fib(10))"
   ]
  },
  {
   "cell_type": "markdown",
   "metadata": {},
   "source": [
    "## import-as  \n",
    "\n",
    "Начиная с версии 2.0, благодаря расширению синтаксиса инструкции ``import``, можно импоритровать модуль, используя для него стороннее имя, отличное от исходного:  \n",
    "\n",
    "```python\n",
    "import fibonachi as fib\n",
    "from fibonachi import fib as f\n",
    "```"
   ]
  },
  {
   "cell_type": "code",
   "execution_count": 7,
   "metadata": {},
   "outputs": [
    {
     "name": "stdout",
     "output_type": "stream",
     "text": [
      "55\n"
     ]
    }
   ],
   "source": [
    "import fibonachi as fib\n",
    "print(fib.fib(10))"
   ]
  },
  {
   "cell_type": "code",
   "execution_count": 8,
   "metadata": {},
   "outputs": [
    {
     "name": "stdout",
     "output_type": "stream",
     "text": [
      "55\n"
     ]
    }
   ],
   "source": [
    "from fibonachi import fib as f\n",
    "print(f(10))"
   ]
  },
  {
   "cell_type": "markdown",
   "metadata": {},
   "source": [
    "## Функция dir()  \n",
    "\n",
    "Если модуль достаточно невелик, т. е. содержит в себе немного имен (функции, свойства), то не представляется сложным примерно запомнить все, что в нем содержится  \n",
    "\n",
    "Если же модуль содержит в себе тысячи имен, то запомнить все то, что он содержит, не представляется возможным\n",
    "\n",
    "В этом случае приходит на помощь встроенная функция ```dir()```, которая позволяет просмотреть содержимое модулей и других объектов\n",
    "\n",
    "Если функцию ``dir()`` вызвать без аргументов, то выведется список доступных переменных в данной области видимости"
   ]
  },
  {
   "cell_type": "code",
   "execution_count": 9,
   "metadata": {},
   "outputs": [
    {
     "data": {
      "text/plain": [
       "['In',\n",
       " 'Out',\n",
       " '_',\n",
       " '__',\n",
       " '___',\n",
       " '__builtin__',\n",
       " '__builtins__',\n",
       " '__doc__',\n",
       " '__loader__',\n",
       " '__name__',\n",
       " '__package__',\n",
       " '__spec__',\n",
       " '_dh',\n",
       " '_i',\n",
       " '_i1',\n",
       " '_i2',\n",
       " '_i3',\n",
       " '_i4',\n",
       " '_i5',\n",
       " '_i6',\n",
       " '_i7',\n",
       " '_i8',\n",
       " '_i9',\n",
       " '_ih',\n",
       " '_ii',\n",
       " '_iii',\n",
       " '_oh',\n",
       " 'exit',\n",
       " 'f',\n",
       " 'fib',\n",
       " 'fibonachi',\n",
       " 'get_ipython',\n",
       " 'numpy',\n",
       " 'quit']"
      ]
     },
     "execution_count": 9,
     "metadata": {},
     "output_type": "execute_result"
    }
   ],
   "source": [
    "dir()"
   ]
  },
  {
   "cell_type": "markdown",
   "metadata": {},
   "source": [
    "Если вызвать функцию ```dir()``` с переданным в качестве аргумента каким-либо объектов, то она выведет отсортированный список всех доступных имен и атрибутов объекта"
   ]
  },
  {
   "cell_type": "code",
   "execution_count": 10,
   "metadata": {},
   "outputs": [
    {
     "name": "stdout",
     "output_type": "stream",
     "text": [
      "['ALLOW_THREADS', 'AxisError', 'BUFSIZE', 'CLIP', 'ComplexWarning', 'DataSource', 'ERR_CALL', 'ERR_DEFAULT', 'ERR_IGNORE', 'ERR_LOG', 'ERR_PRINT', 'ERR_RAISE', 'ERR_WARN', 'FLOATING_POINT_SUPPORT', 'FPE_DIVIDEBYZERO', 'FPE_INVALID', 'FPE_OVERFLOW', 'FPE_UNDERFLOW', 'False_', 'Inf', 'Infinity', 'MAXDIMS', 'MAY_SHARE_BOUNDS', 'MAY_SHARE_EXACT', 'MachAr', 'ModuleDeprecationWarning', 'NAN', 'NINF', 'NZERO', 'NaN', 'PINF', 'PZERO', 'RAISE', 'RankWarning', 'SHIFT_DIVIDEBYZERO', 'SHIFT_INVALID', 'SHIFT_OVERFLOW', 'SHIFT_UNDERFLOW', 'ScalarType', 'Tester', 'TooHardError', 'True_', 'UFUNC_BUFSIZE_DEFAULT', 'UFUNC_PYVALS_NAME', 'VisibleDeprecationWarning', 'WRAP', '_NoValue', '_UFUNC_API', '__NUMPY_SETUP__', '__all__', '__builtins__', '__cached__', '__config__', '__doc__', '__file__', '__git_revision__', '__loader__', '__name__', '__package__', '__path__', '__spec__', '__version__', '_add_newdoc_ufunc', '_arg', '_distributor_init', '_globals', '_mat', '_pytesttester', 'abs', 'absolute', 'absolute_import', 'add', 'add_docstring', 'add_newdoc', 'add_newdoc_ufunc', 'alen', 'all', 'allclose', 'alltrue', 'amax', 'amin', 'angle', 'any', 'append', 'apply_along_axis', 'apply_over_axes', 'arange', 'arccos', 'arccosh', 'arcsin', 'arcsinh', 'arctan', 'arctan2', 'arctanh', 'argmax', 'argmin', 'argpartition', 'argsort', 'argwhere', 'around', 'array', 'array2string', 'array_equal', 'array_equiv', 'array_repr', 'array_split', 'array_str', 'asanyarray', 'asarray', 'asarray_chkfinite', 'ascontiguousarray', 'asfarray', 'asfortranarray', 'asmatrix', 'asscalar', 'atleast_1d', 'atleast_2d', 'atleast_3d', 'average', 'bartlett', 'base_repr', 'binary_repr', 'bincount', 'bitwise_and', 'bitwise_not', 'bitwise_or', 'bitwise_xor', 'blackman', 'block', 'bmat', 'bool', 'bool8', 'bool_', 'broadcast', 'broadcast_arrays', 'broadcast_to', 'busday_count', 'busday_offset', 'busdaycalendar', 'byte', 'byte_bounds', 'bytes0', 'bytes_', 'c_', 'can_cast', 'cast', 'cbrt', 'cdouble', 'ceil', 'cfloat', 'char', 'character', 'chararray', 'choose', 'clip', 'clongdouble', 'clongfloat', 'column_stack', 'common_type', 'compare_chararrays', 'compat', 'complex', 'complex128', 'complex64', 'complex_', 'complexfloating', 'compress', 'concatenate', 'conj', 'conjugate', 'convolve', 'copy', 'copysign', 'copyto', 'core', 'corrcoef', 'correlate', 'cos', 'cosh', 'count_nonzero', 'cov', 'cross', 'csingle', 'ctypeslib', 'cumprod', 'cumproduct', 'cumsum', 'datetime64', 'datetime_as_string', 'datetime_data', 'deg2rad', 'degrees', 'delete', 'deprecate', 'deprecate_with_doc', 'diag', 'diag_indices', 'diag_indices_from', 'diagflat', 'diagonal', 'diff', 'digitize', 'disp', 'divide', 'division', 'divmod', 'dot', 'double', 'dsplit', 'dstack', 'dtype', 'e', 'ediff1d', 'einsum', 'einsum_path', 'emath', 'empty', 'empty_like', 'equal', 'errstate', 'euler_gamma', 'exp', 'exp2', 'expand_dims', 'expm1', 'extract', 'eye', 'fabs', 'fastCopyAndTranspose', 'fft', 'fill_diagonal', 'find_common_type', 'finfo', 'fix', 'flatiter', 'flatnonzero', 'flexible', 'flip', 'fliplr', 'flipud', 'float', 'float16', 'float32', 'float64', 'float_', 'float_power', 'floating', 'floor', 'floor_divide', 'fmax', 'fmin', 'fmod', 'format_float_positional', 'format_float_scientific', 'format_parser', 'frexp', 'frombuffer', 'fromfile', 'fromfunction', 'fromiter', 'frompyfunc', 'fromregex', 'fromstring', 'full', 'full_like', 'fv', 'gcd', 'generic', 'genfromtxt', 'geomspace', 'get_array_wrap', 'get_include', 'get_printoptions', 'getbufsize', 'geterr', 'geterrcall', 'geterrobj', 'gradient', 'greater', 'greater_equal', 'half', 'hamming', 'hanning', 'heaviside', 'histogram', 'histogram2d', 'histogram_bin_edges', 'histogramdd', 'hsplit', 'hstack', 'hypot', 'i0', 'identity', 'iinfo', 'imag', 'in1d', 'index_exp', 'indices', 'inexact', 'inf', 'info', 'infty', 'inner', 'insert', 'int', 'int0', 'int16', 'int32', 'int64', 'int8', 'int_', 'int_asbuffer', 'intc', 'integer', 'interp', 'intersect1d', 'intp', 'invert', 'ipmt', 'irr', 'is_busday', 'isclose', 'iscomplex', 'iscomplexobj', 'isfinite', 'isfortran', 'isin', 'isinf', 'isnan', 'isnat', 'isneginf', 'isposinf', 'isreal', 'isrealobj', 'isscalar', 'issctype', 'issubclass_', 'issubdtype', 'issubsctype', 'iterable', 'ix_', 'kaiser', 'kron', 'lcm', 'ldexp', 'left_shift', 'less', 'less_equal', 'lexsort', 'lib', 'linalg', 'linspace', 'little_endian', 'load', 'loads', 'loadtxt', 'log', 'log10', 'log1p', 'log2', 'logaddexp', 'logaddexp2', 'logical_and', 'logical_not', 'logical_or', 'logical_xor', 'logspace', 'long', 'longcomplex', 'longdouble', 'longfloat', 'longlong', 'lookfor', 'ma', 'mafromtxt', 'mask_indices', 'mat', 'math', 'matmul', 'matrix', 'matrixlib', 'max', 'maximum', 'maximum_sctype', 'may_share_memory', 'mean', 'median', 'memmap', 'meshgrid', 'mgrid', 'min', 'min_scalar_type', 'minimum', 'mintypecode', 'mirr', 'mod', 'modf', 'moveaxis', 'msort', 'multiply', 'nan', 'nan_to_num', 'nanargmax', 'nanargmin', 'nancumprod', 'nancumsum', 'nanmax', 'nanmean', 'nanmedian', 'nanmin', 'nanpercentile', 'nanprod', 'nanquantile', 'nanstd', 'nansum', 'nanvar', 'nbytes', 'ndarray', 'ndenumerate', 'ndfromtxt', 'ndim', 'ndindex', 'nditer', 'negative', 'nested_iters', 'newaxis', 'nextafter', 'nonzero', 'not_equal', 'nper', 'npv', 'numarray', 'number', 'obj2sctype', 'object', 'object0', 'object_', 'ogrid', 'oldnumeric', 'ones', 'ones_like', 'outer', 'packbits', 'pad', 'partition', 'percentile', 'pi', 'piecewise', 'place', 'pmt', 'poly', 'poly1d', 'polyadd', 'polyder', 'polydiv', 'polyfit', 'polyint', 'polymul', 'polynomial', 'polysub', 'polyval', 'positive', 'power', 'ppmt', 'print_function', 'printoptions', 'prod', 'product', 'promote_types', 'ptp', 'put', 'put_along_axis', 'putmask', 'pv', 'quantile', 'r_', 'rad2deg', 'radians', 'random', 'rank', 'rate', 'ravel', 'ravel_multi_index', 'real', 'real_if_close', 'rec', 'recarray', 'recfromcsv', 'recfromtxt', 'reciprocal', 'record', 'remainder', 'repeat', 'require', 'reshape', 'resize', 'result_type', 'right_shift', 'rint', 'roll', 'rollaxis', 'roots', 'rot90', 'round', 'round_', 'row_stack', 's_', 'safe_eval', 'save', 'savetxt', 'savez', 'savez_compressed', 'sctype2char', 'sctypeDict', 'sctypeNA', 'sctypes', 'searchsorted', 'select', 'set_numeric_ops', 'set_printoptions', 'set_string_function', 'setbufsize', 'setdiff1d', 'seterr', 'seterrcall', 'seterrobj', 'setxor1d', 'shape', 'shares_memory', 'short', 'show_config', 'sign', 'signbit', 'signedinteger', 'sin', 'sinc', 'single', 'singlecomplex', 'sinh', 'size', 'sometrue', 'sort', 'sort_complex', 'source', 'spacing', 'split', 'sqrt', 'square', 'squeeze', 'stack', 'std', 'str', 'str0', 'str_', 'string_', 'subtract', 'sum', 'swapaxes', 'sys', 'take', 'take_along_axis', 'tan', 'tanh', 'tensordot', 'test', 'testing', 'tile', 'timedelta64', 'trace', 'tracemalloc_domain', 'transpose', 'trapz', 'tri', 'tril', 'tril_indices', 'tril_indices_from', 'trim_zeros', 'triu', 'triu_indices', 'triu_indices_from', 'true_divide', 'trunc', 'typeDict', 'typeNA', 'typecodes', 'typename', 'ubyte', 'ufunc', 'uint', 'uint0', 'uint16', 'uint32', 'uint64', 'uint8', 'uintc', 'uintp', 'ulonglong', 'unicode', 'unicode_', 'union1d', 'unique', 'unpackbits', 'unravel_index', 'unsignedinteger', 'unwrap', 'ushort', 'vander', 'var', 'vdot', 'vectorize', 'version', 'void', 'void0', 'vsplit', 'vstack', 'warnings', 'where', 'who', 'zeros', 'zeros_like']\n"
     ]
    }
   ],
   "source": [
    "import numpy as np\n",
    "print(dir(np))"
   ]
  },
  {
   "cell_type": "markdown",
   "metadata": {},
   "source": [
    "# Функция help()  \n",
    "\n",
    "Функция ```help()``` предоставляет информацию об определенной функции в модуле"
   ]
  },
  {
   "cell_type": "code",
   "execution_count": 11,
   "metadata": {},
   "outputs": [
    {
     "name": "stdout",
     "output_type": "stream",
     "text": [
      "Help on built-in function cos in module math:\n",
      "\n",
      "cos(...)\n",
      "    cos(x)\n",
      "    \n",
      "    Return the cosine of x (measured in radians).\n",
      "\n",
      "None\n"
     ]
    }
   ],
   "source": [
    "import math\n",
    "print(help(math.cos))"
   ]
  },
  {
   "cell_type": "markdown",
   "metadata": {},
   "source": [
    "## Стандартная библиотека Python  \n",
    "\n",
    "**Стандартная библиотека** -- набор модулей, классов, констант, функций и прочих объектов, доступных из любой программы, написанной на данном языке\n",
    "\n",
    "Одной из привлекательных сторон языка Python является богатая стандартная библиотека, включающая в себя модули по работе с сетевыми протоколами, с операционной системой, с различными форматами данных (XML, JSON, CSV), текстовыми кодировками, коллекциями, мультимедийными форматами и даже криптографическими алгоритмами"
   ]
  },
  {
   "cell_type": "markdown",
   "metadata": {},
   "source": [
    "### Модуль sys\n",
    "\n",
    "Данный модуль предоставляет высокоуровневые средства работы с операционной системой"
   ]
  },
  {
   "cell_type": "markdown",
   "metadata": {},
   "source": [
    "#### sys.argv  \n",
    "\n",
    "Содержит список аргументов, переданных скрипту. Первый аргумент -- путь к скрипту Python"
   ]
  },
  {
   "cell_type": "code",
   "execution_count": 12,
   "metadata": {},
   "outputs": [
    {
     "name": "stdout",
     "output_type": "stream",
     "text": [
      "Writing arguments.py\n"
     ]
    }
   ],
   "source": [
    "%%writefile arguments.py\n",
    "import sys\n",
    "for item in sys.argv:\n",
    "    print(item)"
   ]
  },
  {
   "cell_type": "code",
   "execution_count": 13,
   "metadata": {},
   "outputs": [
    {
     "name": "stdout",
     "output_type": "stream",
     "text": [
      "arguments.py\n",
      "one\n",
      "two\n",
      "three\n"
     ]
    }
   ],
   "source": [
    "!python arguments.py one two three"
   ]
  },
  {
   "cell_type": "markdown",
   "metadata": {},
   "source": [
    "#### sys.executable  \n",
    "\n",
    "Содержит путь к интерпретатору Python"
   ]
  },
  {
   "cell_type": "code",
   "execution_count": 14,
   "metadata": {},
   "outputs": [
    {
     "name": "stdout",
     "output_type": "stream",
     "text": [
      "C:\\Anaconda\\python.exe\n"
     ]
    }
   ],
   "source": [
    "import sys\n",
    "print(sys.executable)"
   ]
  },
  {
   "cell_type": "markdown",
   "metadata": {},
   "source": [
    "#### sys.path   \n",
    "\n",
    "Содержит список строк, которые указывают пути для поиска модулей  \n",
    "Данная функция указывает Python на то, где следует искать импортируемые модули  \n",
    "Она может быть полезной при отладке в случае если модуль по каким-то причинам не импортируется"
   ]
  },
  {
   "cell_type": "code",
   "execution_count": 15,
   "metadata": {},
   "outputs": [
    {
     "name": "stdout",
     "output_type": "stream",
     "text": [
      "['C:\\\\Anaconda\\\\python36.zip', 'C:\\\\Anaconda\\\\DLLs', 'C:\\\\Anaconda\\\\lib', 'C:\\\\Anaconda', '', 'C:\\\\Anaconda\\\\lib\\\\site-packages', 'C:\\\\Anaconda\\\\lib\\\\site-packages\\\\win32', 'C:\\\\Anaconda\\\\lib\\\\site-packages\\\\win32\\\\lib', 'C:\\\\Anaconda\\\\lib\\\\site-packages\\\\Pythonwin', 'C:\\\\Anaconda\\\\lib\\\\site-packages\\\\IPython\\\\extensions', 'C:\\\\Users\\\\user\\\\.ipython']\n"
     ]
    }
   ],
   "source": [
    "print(sys.path)"
   ]
  },
  {
   "cell_type": "markdown",
   "metadata": {},
   "source": [
    "#### sys.platform  \n",
    "\n",
    "Содержит информацию о платформе, на которой работает Python  \n",
    "Данная функция может быть полезна в случае если необходимо писать разные части кода под разные платформы"
   ]
  },
  {
   "cell_type": "code",
   "execution_count": 16,
   "metadata": {},
   "outputs": [],
   "source": [
    "if (sys.platform.startswith(\"win32\")):\n",
    "    # Код для Windows\n",
    "    pass\n",
    "if(sys.platform.startswith(\"linux\")):\n",
    "    # Код для Linux\n",
    "    pass"
   ]
  },
  {
   "cell_type": "markdown",
   "metadata": {},
   "source": [
    "#### sys.version  \n",
    "\n",
    "Содержит информацию о версии интерпретатора Python"
   ]
  },
  {
   "cell_type": "code",
   "execution_count": 17,
   "metadata": {},
   "outputs": [
    {
     "name": "stdout",
     "output_type": "stream",
     "text": [
      "3.6.7 |Anaconda, Inc.| (default, Oct 28 2018, 19:44:12) [MSC v.1915 64 bit (AMD64)]\n"
     ]
    }
   ],
   "source": [
    "print(sys.version)"
   ]
  },
  {
   "cell_type": "markdown",
   "metadata": {},
   "source": [
    "### Модуль os  \n",
    "\n",
    "Данный модуль предоставляет широкие функции для работы с операционной системой, причем их поведение, как правило, не зависит от самой операционной системы"
   ]
  },
  {
   "cell_type": "markdown",
   "metadata": {},
   "source": [
    "#### os.name  \n",
    "\n",
    "Содержит имя операционной системы"
   ]
  },
  {
   "cell_type": "code",
   "execution_count": 18,
   "metadata": {},
   "outputs": [
    {
     "name": "stdout",
     "output_type": "stream",
     "text": [
      "nt\n"
     ]
    }
   ],
   "source": [
    "# Выведет nt\n",
    "# Это связано с тем, что в данном случае ячейка запущена на ОС Windows 7\n",
    "# Windows 7 также называется Windows NT 6.1\n",
    "import os\n",
    "print(os.name)"
   ]
  },
  {
   "cell_type": "markdown",
   "metadata": {},
   "source": [
    "#### os.getcwd()  \n",
    "\n",
    "Содержит информацию о текущей директории"
   ]
  },
  {
   "cell_type": "code",
   "execution_count": 19,
   "metadata": {},
   "outputs": [
    {
     "name": "stdout",
     "output_type": "stream",
     "text": [
      "C:\\Users\\user\n"
     ]
    }
   ],
   "source": [
    "print(os.getcwd())"
   ]
  },
  {
   "cell_type": "markdown",
   "metadata": {},
   "source": [
    "#### os.chdir(path)  \n",
    "\n",
    "Изменяет текущую директорию на директорию, находящуюся по пути path"
   ]
  },
  {
   "cell_type": "code",
   "execution_count": 22,
   "metadata": {},
   "outputs": [
    {
     "name": "stdout",
     "output_type": "stream",
     "text": [
      "C:\\Users\\user\\Desktop\n"
     ]
    }
   ],
   "source": [
    "os.chdir(os.getcwd() + \"//\" + \"Desktop\")\n",
    "print(os.getcwd())"
   ]
  },
  {
   "cell_type": "markdown",
   "metadata": {},
   "source": [
    "#### os.mkdir() и os.makedirs()  \n",
    "\n",
    "Используются для создания папок и каталогов по пути path\n",
    "Разница между ```os.mkdir()``` и ```os.mkdirs()``` состоит в том, что в первом случае создается одна папка, а во втором случае создаются промежуточные папки по пути, если это необходимо"
   ]
  },
  {
   "cell_type": "code",
   "execution_count": 25,
   "metadata": {},
   "outputs": [
    {
     "name": "stdout",
     "output_type": "stream",
     "text": [
      "Такая директория существует\n"
     ]
    }
   ],
   "source": [
    "# Путь до папки, которую хотим создать, переданный в переменную path\n",
    "path = os.getcwd() + \"//\" + \"Webinar_4\"\n",
    "\n",
    "# Создание папки\n",
    "os.mkdir(path)\n",
    "\n",
    "# Проверка на существование\n",
    "if os.path.exists(path):\n",
    "    print(\"Такая директория существует\")\n",
    "else:\n",
    "    print(\"Такой директории не существует\")\n",
    "    \n",
    "# При повторном вызове данной ячейки возбудится исключение FileExistsError:\n",
    "# Невозможно создать файл, так как он уже существует"
   ]
  },
  {
   "cell_type": "code",
   "execution_count": 26,
   "metadata": {},
   "outputs": [
    {
     "ename": "FileNotFoundError",
     "evalue": "[WinError 3] Системе не удается найти указанный путь: 'C:\\\\Users\\\\user\\\\Desktop\\\\Test_Directory\\\\Webinar_4'",
     "output_type": "error",
     "traceback": [
      "\u001b[1;31m---------------------------------------------------------------------------\u001b[0m",
      "\u001b[1;31mFileNotFoundError\u001b[0m                         Traceback (most recent call last)",
      "\u001b[1;32m<ipython-input-26-0a8c58ee13a1>\u001b[0m in \u001b[0;36m<module>\u001b[1;34m\u001b[0m\n\u001b[0;32m      2\u001b[0m \u001b[1;33m\u001b[0m\u001b[0m\n\u001b[0;32m      3\u001b[0m \u001b[0mpath\u001b[0m \u001b[1;33m=\u001b[0m \u001b[0mos\u001b[0m\u001b[1;33m.\u001b[0m\u001b[0mgetcwd\u001b[0m\u001b[1;33m(\u001b[0m\u001b[1;33m)\u001b[0m \u001b[1;33m+\u001b[0m \u001b[1;34mr\"\\Test_Directory\\Webinar_4\"\u001b[0m\u001b[1;33m\u001b[0m\u001b[1;33m\u001b[0m\u001b[0m\n\u001b[1;32m----> 4\u001b[1;33m \u001b[0mos\u001b[0m\u001b[1;33m.\u001b[0m\u001b[0mmkdir\u001b[0m\u001b[1;33m(\u001b[0m\u001b[0mpath\u001b[0m\u001b[1;33m)\u001b[0m \u001b[1;31m# возбудится исключение FileNotFoundError\u001b[0m\u001b[1;33m\u001b[0m\u001b[1;33m\u001b[0m\u001b[0m\n\u001b[0m",
      "\u001b[1;31mFileNotFoundError\u001b[0m: [WinError 3] Системе не удается найти указанный путь: 'C:\\\\Users\\\\user\\\\Desktop\\\\Test_Directory\\\\Webinar_4'"
     ]
    }
   ],
   "source": [
    "# Разница между os.mkdir() и os.makedirs()\n",
    "\n",
    "path = os.getcwd() + r\"\\Test_Directory\\Webinar_4\"\n",
    "os.mkdir(path) # возбудится исключение FileNotFoundError"
   ]
  },
  {
   "cell_type": "code",
   "execution_count": 27,
   "metadata": {},
   "outputs": [
    {
     "name": "stdout",
     "output_type": "stream",
     "text": [
      "True\n",
      "True\n"
     ]
    }
   ],
   "source": [
    "os.makedirs(path) # исключения не возникнет, будет создана директория со всеми недостающими подпапками\n",
    "# В данном случае это подпапки Test_Directory и Webinar_4\n",
    "\n",
    "# Проверка на существование\n",
    "path_ = os.getcwd() + r\"\\Test_Directory\"\n",
    "path = os.getcwd() + r\"\\Test_Directory\\Webinar_4\"\n",
    "\n",
    "print(os.path.exists(path_)) # true\n",
    "print(os.path.exists(path)) # true"
   ]
  },
  {
   "cell_type": "markdown",
   "metadata": {},
   "source": [
    "#### os.remove(), os.rmdir() \n",
    "\n",
    "Используются для удаления файлов или папок"
   ]
  },
  {
   "cell_type": "code",
   "execution_count": 28,
   "metadata": {},
   "outputs": [
    {
     "name": "stdout",
     "output_type": "stream",
     "text": [
      "Не удается найти указанный файл: test.txt\n"
     ]
    }
   ],
   "source": [
    "# Пример использования os.remove()\n",
    "try:\n",
    "    file = \"test.txt\" # файл test.txt, находящийся в рабочем каталоге\n",
    "    os.remove(file) # попытка его удалить\n",
    "    print(\"Файл успешно удален\")\n",
    "except(FileNotFoundError): # в случае если файл не существует, возникнет исключение FileNotFoundError\n",
    "    print(\"Не удается найти указанный файл: {0}\".format(file))"
   ]
  },
  {
   "cell_type": "code",
   "execution_count": 29,
   "metadata": {},
   "outputs": [
    {
     "name": "stdout",
     "output_type": "stream",
     "text": [
      "True\n"
     ]
    }
   ],
   "source": [
    "# Пример использования os.rmdir()\n",
    "\n",
    "directory = \"DELETE THIS DIRECTORY\" # папка, находящаяся в рабочей директории\n",
    "os.mkdir(directory) # создание\n",
    "print(os.path.exists(directory)) # проверка на суцществование"
   ]
  },
  {
   "cell_type": "code",
   "execution_count": 30,
   "metadata": {},
   "outputs": [
    {
     "name": "stdout",
     "output_type": "stream",
     "text": [
      "Директория успешно удалена\n"
     ]
    }
   ],
   "source": [
    "try:\n",
    "    directory = \"DELETE THIS DIRECTORY\" # папка, находящаяся в рабочей директории\n",
    "    os.rmdir(directory) # удаление\n",
    "    print(\"Директория успешно удалена\")\n",
    "except(FileNotFoundError): # если не удается найти удаляемую директорию, возбуждается FileNotFoundError\n",
    "    print(\"Не удается найти указанную директорию: {0}\".format(directory))\n",
    "except(OSError):\n",
    "    print(\"Директория {0} не пуста! Или нет прав на ее удаление\".format(directory))"
   ]
  },
  {
   "cell_type": "markdown",
   "metadata": {},
   "source": [
    "### Подмодуль os.path  \n",
    "\n",
    "Предлагает широкие возможности по работе с путями"
   ]
  },
  {
   "cell_type": "markdown",
   "metadata": {},
   "source": [
    "#### Некоторые методы os.path"
   ]
  },
  {
   "cell_type": "code",
   "execution_count": 89,
   "metadata": {},
   "outputs": [
    {
     "name": "stdout",
     "output_type": "stream",
     "text": [
      "test.py\n"
     ]
    }
   ],
   "source": [
    "# os.path.basename() -- возвращает название файла пути\n",
    "print(os.path.basename(r\"C:\\Users\\test.py\")) # -> test.py"
   ]
  },
  {
   "cell_type": "code",
   "execution_count": 90,
   "metadata": {},
   "outputs": [
    {
     "name": "stdout",
     "output_type": "stream",
     "text": [
      "C:\\Users\n"
     ]
    }
   ],
   "source": [
    "# os.path.dirname() -- возвращает часть каталога пути\n",
    "print(os.path.dirname(r\"C:\\Users\\test.py\")) # -> C:\\Users"
   ]
  },
  {
   "cell_type": "code",
   "execution_count": 91,
   "metadata": {},
   "outputs": [
    {
     "name": "stdout",
     "output_type": "stream",
     "text": [
      "False\n",
      "True\n"
     ]
    }
   ],
   "source": [
    "# os.path.exists() -- проверяет, существует ли файл/каталог или нет по данному пути\n",
    "print(os.path.exists(r\"C:\\Users\\test.txt\")) # -> False\n",
    "print(os.path.exists(r\"C:\\Users\\Владелец\\plot.png\")) # -> True"
   ]
  },
  {
   "cell_type": "code",
   "execution_count": 92,
   "metadata": {},
   "outputs": [
    {
     "name": "stdout",
     "output_type": "stream",
     "text": [
      "True\n",
      "False\n",
      "False\n",
      "True\n"
     ]
    }
   ],
   "source": [
    "# os.path.isfile(), os.path.isdir() -- проверяют присутствие/отсутствие файла/директории в пути\n",
    "\n",
    "path_file = r\"C:\\Users\\Владелец\\plot.png\"\n",
    "path_directory = r\"C:\\Users\\Владелец\"\n",
    "\n",
    "print(os.path.isfile(path_file)) # -> True\n",
    "print(os.path.isdir(path_file)) # -> False\n",
    "print(os.path.isfile(path_directory)) # -> False\n",
    "print(os.path.isdir(path_directory)) # -> True"
   ]
  },
  {
   "cell_type": "code",
   "execution_count": 93,
   "metadata": {},
   "outputs": [
    {
     "name": "stdout",
     "output_type": "stream",
     "text": [
      "['.anaconda', '.conda', '.condarc', '.config', '.ipynb_checkpoints', '.ipython', '.jupyter', '.matplotlib', '.spyder-py3', 'AppData', 'Application Data', 'arguments.py', 'Contacts', 'Cookies', 'data.csv', 'Desktop', 'Favorites', 'fibonachi.py', 'Hw_1_student_version.ipynb', 'Links', 'Local Settings', 'Music', 'NetHood', 'ntuser.dat', 'ntuser.dat.LOG1', 'ntuser.dat.LOG2', 'NTUSER.DAT{016888bd-6c6f-11de-8d1d-001e0bcde3ec}.TM.blf', 'NTUSER.DAT{016888bd-6c6f-11de-8d1d-001e0bcde3ec}.TMContainer00000000000000000001.regtrans-ms', 'NTUSER.DAT{016888bd-6c6f-11de-8d1d-001e0bcde3ec}.TMContainer00000000000000000002.regtrans-ms', 'ntuser.dat{9db7341e-0edd-11ea-87d4-08606e6c43a1}.TM.blf', 'ntuser.dat{9db7341e-0edd-11ea-87d4-08606e6c43a1}.TMContainer00000000000000000001.regtrans-ms', 'ntuser.dat{9db7341e-0edd-11ea-87d4-08606e6c43a1}.TMContainer00000000000000000002.regtrans-ms', 'ntuser.dat{b270713e-03db-11ea-9865-08606e6c43a1}.TM.blf', 'ntuser.dat{b270713e-03db-11ea-9865-08606e6c43a1}.TMContainer00000000000000000001.regtrans-ms', 'ntuser.dat{b270713e-03db-11ea-9865-08606e6c43a1}.TMContainer00000000000000000002.regtrans-ms', 'ntuser.ini', 'plot.png', 'plot_1.png', 'PrintHood', 'Python_Modules.ipynb', 'Recent', 'Saved Games', 'Searches', 'SendTo', 'test.txt', 'Test_Directory', 'Untitled.ipynb', 'Videos', 'Webinar_4', '__pycache__', 'Главное меню', 'Мои документы', 'Шаблоны']\n"
     ]
    }
   ],
   "source": [
    "# os.listdir() -- выводит список содержимого директории по пути path\n",
    "print(os.listdir(r\"C:\\Users\\Владелец\"))"
   ]
  },
  {
   "cell_type": "markdown",
   "metadata": {},
   "source": [
    "### Модуль collections\n",
    "\n",
    "Модуль предоставляет специализированные коллекции данных, которые могут использоваться вместо стандартных коллекций Python (dict, list, tuple, set)"
   ]
  },
  {
   "cell_type": "code",
   "execution_count": 94,
   "metadata": {},
   "outputs": [
    {
     "name": "stdout",
     "output_type": "stream",
     "text": [
      "Ford Mustang\n",
      "1964\n",
      "Red\n"
     ]
    }
   ],
   "source": [
    "# Пример коллекции: namedtuple -- именованный кортеж (неизменяемый список)\n",
    "from collections import namedtuple\n",
    "\n",
    "# два аргумента -- тип кортежа и строка с полями, разделенными пробелами\n",
    "Car = namedtuple(\"Car\", \"Model Year Color\") \n",
    "# доступ к полям\n",
    "first_car = Car(Model=\"Ford Mustang\", Year=\"1964\", Color=\"Red\")\n",
    "print(first_car.Model)\n",
    "print(first_car.Year)\n",
    "print(first_car.Color)\n",
    "\n",
    "# Помимо вышеперечисленного можно также заменять названия полей, устанавливать значения по умолчанию т и. д\n",
    "# Именованные кортежи занимают малое количество памяти"
   ]
  },
  {
   "cell_type": "markdown",
   "metadata": {},
   "source": [
    "### Работа со строками. Модуль string  \n",
    "\n",
    "**Cтрока** -- последовательность символов   \n",
    "Обработка строк является неотъемлемой составляющей программирования на Python"
   ]
  },
  {
   "cell_type": "code",
   "execution_count": null,
   "metadata": {},
   "outputs": [],
   "source": [
    "# Пример строки\n",
    "string = \"I'm Python string!\""
   ]
  },
  {
   "cell_type": "markdown",
   "metadata": {},
   "source": [
    "Python предоставляет широкие возможности для работы со строками: форматирование, редактирование и т. д."
   ]
  },
  {
   "cell_type": "code",
   "execution_count": 104,
   "metadata": {},
   "outputs": [
    {
     "name": "stdout",
     "output_type": "stream",
     "text": [
      "I am Python string\n"
     ]
    }
   ],
   "source": [
    "# Некоторые строковые операторы\n",
    "# Оператор сложения строк (конкатенация) -- +\n",
    "s1 = \"I am \"\n",
    "s2 = \"Python string\"\n",
    "print(s1 + s2)"
   ]
  },
  {
   "cell_type": "code",
   "execution_count": 105,
   "metadata": {},
   "outputs": [
    {
     "name": "stdout",
     "output_type": "stream",
     "text": [
      "ssssssssss\n"
     ]
    }
   ],
   "source": [
    "# Оператор умножения строк -- *\n",
    "s = \"s\"\n",
    "print(10 * s)\n",
    "# Единичный символ также является строкой"
   ]
  },
  {
   "cell_type": "code",
   "execution_count": 106,
   "metadata": {},
   "outputs": [
    {
     "name": "stdout",
     "output_type": "stream",
     "text": [
      "True\n",
      "False\n"
     ]
    }
   ],
   "source": [
    "# Операторы принадлежности/непринадлежности подстроки строке -- in/not in\n",
    "s = \"string\"\n",
    "print(\"str\" in s)\n",
    "print(\"ddd\" in s)"
   ]
  },
  {
   "cell_type": "code",
   "execution_count": 110,
   "metadata": {},
   "outputs": [
    {
     "name": "stdout",
     "output_type": "stream",
     "text": [
      "8721\n",
      "1071\n",
      "101\n"
     ]
    }
   ],
   "source": [
    "# Встроенные функции строк в Python\n",
    "# ord() -- преобразует символ в целое число. Работает как с ASCII, так и с Unicode\n",
    "print(ord(\"∑\"))\n",
    "print(ord(\"Я\"))\n",
    "print(ord(\"e\"))"
   ]
  },
  {
   "cell_type": "code",
   "execution_count": 115,
   "metadata": {},
   "outputs": [
    {
     "name": "stdout",
     "output_type": "stream",
     "text": [
      "Ϩ\n",
      "ߤ\n",
      "e\n"
     ]
    }
   ],
   "source": [
    "# сhr() -- преобразование целого числа в символ\n",
    "print(chr(1000))\n",
    "print(chr(2020))\n",
    "print(chr(101))"
   ]
  },
  {
   "cell_type": "code",
   "execution_count": 116,
   "metadata": {},
   "outputs": [
    {
     "name": "stdout",
     "output_type": "stream",
     "text": [
      "18\n"
     ]
    }
   ],
   "source": [
    "# len() -- длина строки\n",
    "print(len(\"торт торт тортокот\"))"
   ]
  },
  {
   "cell_type": "code",
   "execution_count": 118,
   "metadata": {},
   "outputs": [
    {
     "name": "stdout",
     "output_type": "stream",
     "text": [
      "<class 'int'>\n",
      "<class 'str'>\n"
     ]
    }
   ],
   "source": [
    "# str() -- изменяет тип объекта на строковый\n",
    "chislo = 10\n",
    "stroka = str(chislo)\n",
    "print(type(chislo))\n",
    "print(type(stroka))\n"
   ]
  },
  {
   "cell_type": "code",
   "execution_count": 119,
   "metadata": {},
   "outputs": [
    {
     "name": "stdout",
     "output_type": "stream",
     "text": [
      "s\n",
      "r\n",
      "n\n"
     ]
    }
   ],
   "source": [
    "# Индексация строк\n",
    "# Строки индексируются с 0\n",
    "s = \"string\"\n",
    "print(s[0])\n",
    "print(s[2])\n",
    "print(s[4])"
   ]
  },
  {
   "cell_type": "code",
   "execution_count": 121,
   "metadata": {},
   "outputs": [
    {
     "ename": "IndexError",
     "evalue": "string index out of range",
     "output_type": "error",
     "traceback": [
      "\u001b[1;31m---------------------------------------------------------------------------\u001b[0m",
      "\u001b[1;31mIndexError\u001b[0m                                Traceback (most recent call last)",
      "\u001b[1;32m<ipython-input-121-34621d6d40eb>\u001b[0m in \u001b[0;36m<module>\u001b[1;34m\u001b[0m\n\u001b[0;32m      1\u001b[0m \u001b[1;31m# Попытка обращения к индексу больше чем len() - 1 приводит к ошибке\u001b[0m\u001b[1;33m\u001b[0m\u001b[1;33m\u001b[0m\u001b[1;33m\u001b[0m\u001b[0m\n\u001b[1;32m----> 2\u001b[1;33m \u001b[0mprint\u001b[0m\u001b[1;33m(\u001b[0m\u001b[0ms\u001b[0m\u001b[1;33m[\u001b[0m\u001b[0mlen\u001b[0m\u001b[1;33m(\u001b[0m\u001b[0ms\u001b[0m\u001b[1;33m)\u001b[0m\u001b[1;33m]\u001b[0m\u001b[1;33m)\u001b[0m\u001b[1;33m\u001b[0m\u001b[1;33m\u001b[0m\u001b[0m\n\u001b[0m",
      "\u001b[1;31mIndexError\u001b[0m: string index out of range"
     ]
    }
   ],
   "source": [
    "# Попытка обращения к индексу больше чем len() - 1 приводит к ошибке IndexError\n",
    "print(s[len(s)])"
   ]
  },
  {
   "cell_type": "code",
   "execution_count": 123,
   "metadata": {},
   "outputs": [
    {
     "ename": "TypeError",
     "evalue": "'str' object does not support item assignment",
     "output_type": "error",
     "traceback": [
      "\u001b[1;31m---------------------------------------------------------------------------\u001b[0m",
      "\u001b[1;31mTypeError\u001b[0m                                 Traceback (most recent call last)",
      "\u001b[1;32m<ipython-input-123-d769f5e63447>\u001b[0m in \u001b[0;36m<module>\u001b[1;34m\u001b[0m\n\u001b[0;32m      1\u001b[0m \u001b[1;31m# Cтроки неизменяемы\u001b[0m\u001b[1;33m\u001b[0m\u001b[1;33m\u001b[0m\u001b[1;33m\u001b[0m\u001b[0m\n\u001b[1;32m----> 2\u001b[1;33m \u001b[0ms\u001b[0m\u001b[1;33m[\u001b[0m\u001b[1;36m0\u001b[0m\u001b[1;33m]\u001b[0m \u001b[1;33m=\u001b[0m \u001b[1;34m\"g\"\u001b[0m\u001b[1;33m\u001b[0m\u001b[1;33m\u001b[0m\u001b[0m\n\u001b[0m\u001b[0;32m      3\u001b[0m \u001b[0mprint\u001b[0m\u001b[1;33m(\u001b[0m\u001b[0ms\u001b[0m\u001b[1;33m)\u001b[0m\u001b[1;33m\u001b[0m\u001b[1;33m\u001b[0m\u001b[0m\n",
      "\u001b[1;31mTypeError\u001b[0m: 'str' object does not support item assignment"
     ]
    }
   ],
   "source": [
    "# Cтроки неизменяемы\n",
    "s[0] = \"g\"\n",
    "print(s)"
   ]
  },
  {
   "cell_type": "code",
   "execution_count": 125,
   "metadata": {},
   "outputs": [
    {
     "name": "stdout",
     "output_type": "stream",
     "text": [
      "g\n",
      "i\n",
      "t\n"
     ]
    }
   ],
   "source": [
    "# Возможность отрицательной индексации\n",
    "print(s[-1])\n",
    "print(s[-3])\n",
    "print(s[-5])"
   ]
  },
  {
   "attachments": {
    "image.png": {
     "image/png": "[encoded data removed]"
    }
   },
   "cell_type": "markdown",
   "metadata": {},
   "source": [
    "![image.png](attachment:image.png)"
   ]
  },
  {
   "cell_type": "code",
   "execution_count": 137,
   "metadata": {},
   "outputs": [
    {
     "name": "stdout",
     "output_type": "stream",
     "text": [
      "tring\n",
      "stri\n",
      "srn\n",
      "ti\n",
      "gnirts\n",
      "strin\n"
     ]
    }
   ],
   "source": [
    "# Извлечение срезов -- slices\n",
    "\n",
    "# Пусть s  строка. Тогда срезом строки s называется строка вида s[m:n:k]\n",
    "# m -- индекс начала среза\n",
    "# n -- индекс конца среза (символ с этим индексом в срез не включается)\n",
    "# k -- шаг среза\n",
    "\n",
    "print(s[1:]) # tring -- срез со 2 символа и до конца строка\n",
    "print(s[:4]) # stri -- срез с начала строки и до символа с индексом 4, не включая его\n",
    "print(s[::2]) # srn\n",
    "print(s[1:4:2]) # ti\n",
    "\n",
    "\n",
    "# Инвертирование строки через срезы\n",
    "print(s[::-1]) # gnirts\n",
    "\n",
    "# Видно, что в срезах также можно применять отрицательную индексацию\n",
    "print(s[-6:-1:1]) # strin"
   ]
  },
  {
   "cell_type": "code",
   "execution_count": 142,
   "metadata": {},
   "outputs": [
    {
     "name": "stdout",
     "output_type": "stream",
     "text": [
      "One = 1, Two = 2, Three = 3\n",
      "Значение переменной var равно 16\n"
     ]
    }
   ],
   "source": [
    "# Форматирование строк\n",
    "# Используется для подстановки данных в строку\n",
    "\n",
    "# 1. Метод format()\n",
    "\n",
    "# Вместо значений в фигурных скобках подставляются аргументы метода format()\n",
    "# Аргументами могут быть строки, числа, переменные и прочие объекты\n",
    "print(\"One = {0}, Two = {1}, Three = {2}\".format(1, 2, 3))\n",
    "\n",
    "# 2. Метод f-строки\n",
    "# Появился в Python 3.6\n",
    "\n",
    "var = 16\n",
    "print(f\"Значение переменной var равно {var}\")\n",
    "\n",
    "# f-строка помечается буквой f перед строкой\n",
    "# Подставив название переменнойц в фигурные скобки, Python автоматически подцепит в строку ее значение\n",
    "\n"
   ]
  },
  {
   "cell_type": "code",
   "execution_count": 154,
   "metadata": {},
   "outputs": [
    {
     "name": "stdout",
     "output_type": "stream",
     "text": [
      "Test string\n",
      "test string\n",
      "TEST STRING\n",
      "8\n",
      "-1\n",
      "False\n",
      "False\n",
      "False\n"
     ]
    }
   ],
   "source": [
    "# Некоторые методы для работы со строками\n",
    "\n",
    "s = \"test String\"\n",
    "\n",
    "# capitalize() -- приводит первую букву в верхний регистр, а остальные -- в нижний\n",
    "print(s.capitalize()) # -> Test string\n",
    "\n",
    "# lower() -- приводит все буквы строки в нижний регистр\n",
    "print(s.lower()) # -> test string\n",
    "\n",
    "# upper() -- приводит все буквы строки в верхний регистр\n",
    "print(s.upper()) # TEST STRING\n",
    "\n",
    "# find() -- ищет в строке подстроку, выводит индек первого символа найденной подстроки\n",
    "print(s.find(\"ing\"))\n",
    "print(s.find(\"lol\")) # возвращает -1, если подстрока не найдена\n",
    "\n",
    "# index() -- идентичен find(), но в случае остутствия искомой подстроки возбуждает исключение ValueError\n",
    "\n",
    "# isalnum() -- возвращает True, если строка состоит из букв и цифр, иначе -- False\n",
    "print(s.isalnum()) # False\n",
    "\n",
    "# isalpha() --- возвращает True, если строка состоит только из букв, иначе -- False\n",
    "print(s.isalpha()) # False\n",
    "\n",
    "# isdigit() -- возвращает True, если стркоа состоит только из цифр, иначе -- False\n",
    "print(s.isdigit()) # False\n",
    "\n",
    "\n"
   ]
  },
  {
   "cell_type": "code",
   "execution_count": 95,
   "metadata": {},
   "outputs": [
    {
     "name": "stdout",
     "output_type": "stream",
     "text": [
      "Все буквы ASCII: abcdefghijklmnopqrstuvwxyzABCDEFGHIJKLMNOPQRSTUVWXYZ\n",
      "Строчные буквы ASCII: abcdefghijklmnopqrstuvwxyz\n",
      "Прописные буквы ASCII: ABCDEFGHIJKLMNOPQRSTUVWXYZ\n",
      "Цифры: 0123456789\n"
     ]
    }
   ],
   "source": [
    "# Модуль string. Некоторые константы\n",
    "from string import ascii_letters, ascii_lowercase, ascii_uppercase, digits\n",
    "print(\"Все буквы ASCII: {0}\".format(ascii_letters))\n",
    "print(\"Строчные буквы ASCII: {0}\".format(ascii_lowercase))\n",
    "print(\"Прописные буквы ASCII: {0}\".format(ascii_uppercase))\n",
    "print(\"Цифры: {0}\".format(digits))"
   ]
  },
  {
   "cell_type": "markdown",
   "metadata": {},
   "source": [
    "### Модуль datetime  \n",
    "\n",
    "Модуль, предоставляющий возможности работы с датой и временем"
   ]
  },
  {
   "cell_type": "code",
   "execution_count": 103,
   "metadata": {},
   "outputs": [
    {
     "name": "stdout",
     "output_type": "stream",
     "text": [
      "Пример даты: 2020-04-16\n",
      "Пример времени: 20:12:10.001970\n",
      "Объединение даты и времени: 2020-04-16 20:12:10.001970\n",
      "Сегодня у нас 2020-04-18 15:53:03.707269\n",
      "С 1 января 1970 года прошло 737533 дней\n",
      "С 1 января 1970 года прошло 1587214383.707269 секунд\n"
     ]
    }
   ],
   "source": [
    "import datetime\n",
    "\n",
    "# Дата\n",
    "d = datetime.date(2020, 4, 16)\n",
    "print(\"Пример даты: {0}\".format(d))\n",
    "\n",
    "# Время\n",
    "t = datetime.time(20, 12, 10, 1970)\n",
    "print(\"Пример времени: {0}\".format(t))\n",
    "\n",
    "# Объединение времени и даты\n",
    "dt = datetime.datetime.combine(d, t)\n",
    "print(\"Объединение даты и времени: {0}\".format(dt))\n",
    "\n",
    "# Сегодняшний день\n",
    "today = datetime.datetime.today()\n",
    "print(\"Сегодня у нас {0}\".format(today))\n",
    "\n",
    "# Количество дней, прошедших с 01.01.1970\n",
    "print(\"С 1 января 1970 года прошло {0} дней\".format(datetime.datetime.toordinal(today)))\n",
    "\n",
    "# Количество секунд, прошедших с 01.01.1970\n",
    "print(\"С 1 января 1970 года прошло {0} секунд\".format(datetime.datetime.timestamp(today)))"
   ]
  },
  {
   "cell_type": "code",
   "execution_count": null,
   "metadata": {},
   "outputs": [],
   "source": []
  }
 ],
 "metadata": {
  "kernelspec": {
   "display_name": "Python 3",
   "language": "python",
   "name": "python3"
  },
  "language_info": {
   "codemirror_mode": {
    "name": "ipython",
    "version": 3
   },
   "file_extension": ".py",
   "mimetype": "text/x-python",
   "name": "python",
   "nbconvert_exporter": "python",
   "pygments_lexer": "ipython3",
   "version": "3.6.7"
  }
 },
 "nbformat": 4,
 "nbformat_minor": 2
}
